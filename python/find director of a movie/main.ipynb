{
 "cells": [
  {
   "cell_type": "markdown",
   "metadata": {},
   "source": [
    "# پیدا کردن نام نویسنده یک فیلم"
   ]
  },
  {
   "cell_type": "markdown",
   "metadata": {},
   "source": [
    "#install library\n",
    "pip install imdbPY"
   ]
  },
  {
   "cell_type": "code",
   "execution_count": 10,
   "metadata": {},
   "outputs": [],
   "source": [
    "from imdb import IMDb\n",
    "\n",
    "ia=IMDb()"
   ]
  },
  {
   "cell_type": "code",
   "execution_count": 11,
   "metadata": {},
   "outputs": [],
   "source": [
    "Movie_name=input(\"enter the movie name : \")\n",
    "movies=ia.search_movie(Movie_name)"
   ]
  },
  {
   "cell_type": "code",
   "execution_count": 12,
   "metadata": {},
   "outputs": [
    {
     "name": "stdout",
     "output_type": "stream",
     "text": [
      "director is : Rasool Mollagholi Poor\n"
     ]
    }
   ],
   "source": [
    "if movies:\n",
    "    movie=movies[0]\n",
    "    ia.update(movie)\n",
    "    directors=movie.get('director')\n",
    "    if directors:\n",
    "        for director in directors:\n",
    "            print(f\"director is : {director[\"name\"]}\")\n",
    "    else:\n",
    "        print(\"No director found\")\n",
    "else:\n",
    "    print(\"No movies found\")"
   ]
  }
 ],
 "metadata": {
  "kernelspec": {
   "display_name": "venvall",
   "language": "python",
   "name": "python3"
  },
  "language_info": {
   "codemirror_mode": {
    "name": "ipython",
    "version": 3
   },
   "file_extension": ".py",
   "mimetype": "text/x-python",
   "name": "python",
   "nbconvert_exporter": "python",
   "pygments_lexer": "ipython3",
   "version": "3.12.3"
  }
 },
 "nbformat": 4,
 "nbformat_minor": 2
}
