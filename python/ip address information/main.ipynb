{
 "cells": [
  {
   "cell_type": "code",
   "execution_count": 12,
   "metadata": {},
   "outputs": [],
   "source": [
    "import os\n",
    "import urllib.request as urll\n",
    "import json"
   ]
  },
  {
   "cell_type": "code",
   "execution_count": null,
   "metadata": {},
   "outputs": [
    {
     "name": "stdout",
     "output_type": "stream",
     "text": [
      "I :13.107.246.254\n",
      "City :Montreal\n",
      "ISP :Microsoft Corporation\n",
      "Country :Canada\n",
      "Region :QC\n",
      "TimeZone :America/Toronto\n"
     ]
    }
   ],
   "source": [
    "try:\n",
    "    while True:\n",
    "        ip = input(\"what is your target ip?\")\n",
    "        url=\"http://ip-api.com/json/\"\n",
    "        response=urll.urlopen(url + ip)\n",
    "        data = response.read()\n",
    "        values = json.loads (data)\n",
    "        \n",
    "        print(\"Ip :\" + values[\"query\"])\n",
    "        print(\"City :\" + values[\"city\"])\n",
    "        print(\"ISP :\" + values[\"isp\"])\n",
    "        print(\"Country :\" + values[\"country\"])\n",
    "        print(\"Region :\" + values[\"region\"])\n",
    "        print(\"TimeZone :\" + values[\"timezone\"])\n",
    "        break\n",
    "except :\n",
    "    print(\"Error\")\n",
    "    \n",
    "    \n",
    "    "
   ]
  },
  {
   "cell_type": "code",
   "execution_count": null,
   "metadata": {},
   "outputs": [],
   "source": []
  }
 ],
 "metadata": {
  "kernelspec": {
   "display_name": "venvall",
   "language": "python",
   "name": "python3"
  },
  "language_info": {
   "codemirror_mode": {
    "name": "ipython",
    "version": 3
   },
   "file_extension": ".py",
   "mimetype": "text/x-python",
   "name": "python",
   "nbconvert_exporter": "python",
   "pygments_lexer": "ipython3",
   "version": "3.12.3"
  }
 },
 "nbformat": 4,
 "nbformat_minor": 2
}
