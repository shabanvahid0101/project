{
 "cells": [
  {
   "cell_type": "code",
   "execution_count": 1,
   "metadata": {},
   "outputs": [],
   "source": [
    "import phonenumbers as ph\n",
    "from phonenumbers import carrier\n",
    "from phonenumbers import geocoder\n",
    "from phonenumbers import timezone\n",
    "\n"
   ]
  },
  {
   "cell_type": "code",
   "execution_count": 2,
   "metadata": {},
   "outputs": [
    {
     "name": "stdout",
     "output_type": "stream",
     "text": [
      "('Asia/Manila',)\n",
      "Smart\n",
      "Philippines\n"
     ]
    }
   ],
   "source": [
    "number = input(\"please insert your phonenumber :\")\n",
    "number =ph.parse(number)\n",
    "print(timezone.time_zones_for_number(number))\n",
    "print(carrier.name_for_number(number,'en'))\n",
    "print(geocoder.description_for_number(number,'en'))"
   ]
  }
 ],
 "metadata": {
  "kernelspec": {
   "display_name": "venvall",
   "language": "python",
   "name": "python3"
  },
  "language_info": {
   "codemirror_mode": {
    "name": "ipython",
    "version": 3
   },
   "file_extension": ".py",
   "mimetype": "text/x-python",
   "name": "python",
   "nbconvert_exporter": "python",
   "pygments_lexer": "ipython3",
   "version": "3.12.3"
  }
 },
 "nbformat": 4,
 "nbformat_minor": 2
}
