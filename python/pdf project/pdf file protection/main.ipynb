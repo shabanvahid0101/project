{
 "cells": [
  {
   "cell_type": "code",
   "execution_count": 1,
   "metadata": {},
   "outputs": [],
   "source": [
    "from PyPDF2 import PdfReader,PdfWriter\n",
    "import getpass"
   ]
  },
  {
   "cell_type": "code",
   "execution_count": 2,
   "metadata": {},
   "outputs": [
    {
     "name": "stdout",
     "output_type": "stream",
     "text": [
      "the pdf has password.\n"
     ]
    }
   ],
   "source": [
    "def protect_pdf(input_pdf,output_pdf):\n",
    "    reader=PdfReader(\"1-13.pdf\")\n",
    "    writer=PdfWriter()\n",
    "    for page in reader.pages:\n",
    "        writer.add_page(page)\n",
    "        \n",
    "    password=getpass.getpass(\"Please Enter a Password :\")\n",
    "    writer.encrypt(password)\n",
    "    with open(output_pdf,\"wb\") as f:\n",
    "        writer.write(f)\n",
    "    \n",
    "    print(f\"the pdf has password.\")\n",
    "protect_pdf(\"1-13.pdf\",\"protected_file.pdf\")\n",
    "    "
   ]
  }
 ],
 "metadata": {
  "kernelspec": {
   "display_name": "venvall",
   "language": "python",
   "name": "python3"
  },
  "language_info": {
   "codemirror_mode": {
    "name": "ipython",
    "version": 3
   },
   "file_extension": ".py",
   "mimetype": "text/x-python",
   "name": "python",
   "nbconvert_exporter": "python",
   "pygments_lexer": "ipython3",
   "version": "3.12.3"
  }
 },
 "nbformat": 4,
 "nbformat_minor": 2
}
