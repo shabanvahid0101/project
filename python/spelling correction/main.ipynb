{
 "cells": [
  {
   "cell_type": "markdown",
   "metadata": {},
   "source": [
    "pip install textblob"
   ]
  },
  {
   "cell_type": "code",
   "execution_count": 2,
   "metadata": {},
   "outputs": [],
   "source": [
    "from textblob import TextBlob"
   ]
  },
  {
   "cell_type": "code",
   "execution_count": 3,
   "metadata": {},
   "outputs": [
    {
     "name": "stdout",
     "output_type": "stream",
     "text": [
      "this is first text: i havv is buusy\n",
      "\n",
      "this is later corrected text: i have is busy\n"
     ]
    }
   ],
   "source": [
    "text=input(\"please insert text:\")\n",
    "blob = TextBlob(text)\n",
    "corrected_blob=blob.correct()\n",
    "\n",
    "print(f\"this is first text: {text}\\n\")\n",
    "print(f\"this is later corrected text: {corrected_blob}\")"
   ]
  }
 ],
 "metadata": {
  "kernelspec": {
   "display_name": "venvall",
   "language": "python",
   "name": "python3"
  },
  "language_info": {
   "codemirror_mode": {
    "name": "ipython",
    "version": 3
   },
   "file_extension": ".py",
   "mimetype": "text/x-python",
   "name": "python",
   "nbconvert_exporter": "python",
   "pygments_lexer": "ipython3",
   "version": "3.12.3"
  }
 },
 "nbformat": 4,
 "nbformat_minor": 2
}
