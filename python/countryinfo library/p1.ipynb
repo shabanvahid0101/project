{
 "cells": [
  {
   "cell_type": "code",
   "execution_count": 30,
   "metadata": {},
   "outputs": [],
   "source": [
    "from countryinfo import CountryInfo\n",
    "country=CountryInfo(input(\"enter country name\"))"
   ]
  },
  {
   "cell_type": "code",
   "execution_count": 31,
   "metadata": {},
   "outputs": [
    {
     "data": {
      "text/plain": [
       "('Moscow',\n",
       " 146233000,\n",
       " 17124442,\n",
       " 'Europe',\n",
       " 'Eastern Europe',\n",
       " 'Russian',\n",
       " ['RUB'],\n",
       " ['ru'],\n",
       " ['AZE',\n",
       "  'BLR',\n",
       "  'CHN',\n",
       "  'EST',\n",
       "  'FIN',\n",
       "  'GEO',\n",
       "  'KAZ',\n",
       "  'PRK',\n",
       "  'LVA',\n",
       "  'LTU',\n",
       "  'MNG',\n",
       "  'NOR',\n",
       "  'POL',\n",
       "  'UKR'])"
      ]
     },
     "execution_count": 31,
     "metadata": {},
     "output_type": "execute_result"
    }
   ],
   "source": [
    "capital =country.capital()\n",
    "population =country.population()\n",
    "area = country.area()\n",
    "region =country.region()\n",
    "subregion=country.subregion()\n",
    "demonym=country.demonym()\n",
    "currency=country.currencies()\n",
    "languages=country.languages()\n",
    "borders=country.borders()\n",
    "capital,population,area,region,subregion,demonym,currency,languages,borders\n"
   ]
  }
 ],
 "metadata": {
  "kernelspec": {
   "display_name": "venvall",
   "language": "python",
   "name": "python3"
  },
  "language_info": {
   "codemirror_mode": {
    "name": "ipython",
    "version": 3
   },
   "file_extension": ".py",
   "mimetype": "text/x-python",
   "name": "python",
   "nbconvert_exporter": "python",
   "pygments_lexer": "ipython3",
   "version": "3.12.3"
  }
 },
 "nbformat": 4,
 "nbformat_minor": 2
}
